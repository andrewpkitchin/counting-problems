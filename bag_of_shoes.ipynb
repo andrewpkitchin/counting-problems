{
  "nbformat": 4,
  "nbformat_minor": 0,
  "metadata": {
    "colab": {
      "provenance": [],
      "authorship_tag": "ABX9TyNW0Rb7Jdu6oMAl0fIE3VlF",
      "include_colab_link": true
    },
    "kernelspec": {
      "name": "python3",
      "display_name": "Python 3"
    },
    "language_info": {
      "name": "python"
    }
  },
  "cells": [
    {
      "cell_type": "markdown",
      "metadata": {
        "id": "view-in-github",
        "colab_type": "text"
      },
      "source": [
        "<a href=\"https://colab.research.google.com/github/andrewpkitchin/counting-problems/blob/main/bag_of_shoes.ipynb\" target=\"_parent\"><img src=\"https://colab.research.google.com/assets/colab-badge.svg\" alt=\"Open In Colab\"/></a>"
      ]
    },
    {
      "cell_type": "markdown",
      "source": [
        "Let's confirm the that the total number of uniquie permutations is 90."
      ],
      "metadata": {
        "id": "paYttajTBpL4"
      }
    },
    {
      "cell_type": "code",
      "source": [
        "import random"
      ],
      "metadata": {
        "id": "olvt2sz0U4bL"
      },
      "execution_count": 1,
      "outputs": []
    },
    {
      "cell_type": "code",
      "source": [
        "list_of_shoes = [4, 4, 5, 5, 6, 6]\n",
        "\n",
        "permutations = []\n",
        "\n",
        "for _ in range(1000):\n",
        "  # randomly shuffle the list_of_shoes\n",
        "    random.shuffle(list_of_shoes)\n",
        "    if list_of_shoes in permutations:\n",
        "      continue\n",
        "    else:\n",
        "      permutations.append(list_of_shoes.copy())\n",
        "\n",
        "# lets look at the first few examples\n",
        "print(permutations[:5])\n",
        "\n",
        "print(\"Total: \", len(permutations))"
      ],
      "metadata": {
        "colab": {
          "base_uri": "https://localhost:8080/"
        },
        "id": "H7XIFCxsU2sz",
        "outputId": "29e65730-97ca-4c66-c0d7-262ce96618bf"
      },
      "execution_count": 12,
      "outputs": [
        {
          "output_type": "stream",
          "name": "stdout",
          "text": [
            "[[5, 5, 4, 6, 6, 4], [6, 5, 5, 4, 4, 6], [4, 6, 4, 6, 5, 5], [4, 6, 4, 5, 6, 5], [6, 4, 4, 5, 6, 5]]\n",
            "Total:  90\n"
          ]
        }
      ]
    },
    {
      "cell_type": "markdown",
      "source": [
        "Let's compute the number of aceptable and unacceptable permutations."
      ],
      "metadata": {
        "id": "jXemEuybCbBy"
      }
    },
    {
      "cell_type": "code",
      "execution_count": 13,
      "metadata": {
        "colab": {
          "base_uri": "https://localhost:8080/"
        },
        "id": "EJhAtKWJU0sv",
        "outputId": "de7071c3-d78f-4a47-a207-de7ca5118583"
      },
      "outputs": [
        {
          "output_type": "execute_result",
          "data": {
            "text/plain": [
              "(30, 60)"
            ]
          },
          "metadata": {},
          "execution_count": 13
        }
      ],
      "source": [
        "list_of_shoes = [4, 4, 5, 5, 6, 6]\n",
        "\n",
        "# initialize empty lists for accepted and rejected\n",
        "accepted = []\n",
        "rejected = []\n",
        "\n",
        "for _ in range(1000):\n",
        "    random.shuffle(list_of_shoes)\n",
        "\n",
        "    # check if the shuffled list is already in either accepted or rejected lists\n",
        "    if list_of_shoes in accepted or list_of_shoes in rejected:\n",
        "        continue  # discard this iteration and continue with the next if the condition is met\n",
        "\n",
        "    # check the conditions and add to the appropriate list\n",
        "    if list_of_shoes[0] in [list_of_shoes[1]-1, list_of_shoes[1], list_of_shoes[1]+1] and \\\n",
        "       list_of_shoes[2] in [list_of_shoes[3]-1, list_of_shoes[3], list_of_shoes[3]+1] and \\\n",
        "       list_of_shoes[4] in [list_of_shoes[5]-1, list_of_shoes[5], list_of_shoes[5]+1]:\n",
        "        accepted.append(list_of_shoes.copy())\n",
        "    else:\n",
        "        rejected.append(list_of_shoes.copy())\n",
        "\n",
        "len(accepted), len(rejected)"
      ]
    }
  ]
}